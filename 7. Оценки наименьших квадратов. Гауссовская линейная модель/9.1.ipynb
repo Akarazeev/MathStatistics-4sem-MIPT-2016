{
 "cells": [
  {
   "cell_type": "markdown",
   "metadata": {},
   "source": [
    "# Задача 1"
   ]
  },
  {
   "cell_type": "code",
   "execution_count": 1,
   "metadata": {
    "collapsed": false
   },
   "outputs": [],
   "source": [
    "%matplotlib inline\n",
    "import numpy as np\n",
    "import math as mt\n",
    "import matplotlib\n",
    "import matplotlib.pyplot as plt\n",
    "from pylab import *\n",
    "from scipy.stats import *\n",
    "import pandas as pd\n",
    "from numpy import linalg\n",
    "from numpy.random import shuffle"
   ]
  },
  {
   "cell_type": "code",
   "execution_count": 2,
   "metadata": {
    "collapsed": false
   },
   "outputs": [
    {
     "data": {
      "text/html": [
       "<div>\n",
       "<table border=\"1\" class=\"dataframe\">\n",
       "  <thead>\n",
       "    <tr style=\"text-align: right;\">\n",
       "      <th></th>\n",
       "      <th>X</th>\n",
       "      <th>Y</th>\n",
       "      <th>month</th>\n",
       "      <th>FFMC</th>\n",
       "      <th>DMC</th>\n",
       "      <th>DC</th>\n",
       "      <th>ISI</th>\n",
       "      <th>temp</th>\n",
       "      <th>RH</th>\n",
       "      <th>wind</th>\n",
       "      <th>rain</th>\n",
       "      <th>area</th>\n",
       "      <th>free_term</th>\n",
       "    </tr>\n",
       "  </thead>\n",
       "  <tbody>\n",
       "    <tr>\n",
       "      <th>0</th>\n",
       "      <td>7</td>\n",
       "      <td>5</td>\n",
       "      <td>0</td>\n",
       "      <td>86.2</td>\n",
       "      <td>26.2</td>\n",
       "      <td>94.3</td>\n",
       "      <td>5.1</td>\n",
       "      <td>8.2</td>\n",
       "      <td>51</td>\n",
       "      <td>6.7</td>\n",
       "      <td>0.0</td>\n",
       "      <td>0.0</td>\n",
       "      <td>1</td>\n",
       "    </tr>\n",
       "    <tr>\n",
       "      <th>1</th>\n",
       "      <td>7</td>\n",
       "      <td>4</td>\n",
       "      <td>0</td>\n",
       "      <td>90.6</td>\n",
       "      <td>35.4</td>\n",
       "      <td>669.1</td>\n",
       "      <td>6.7</td>\n",
       "      <td>18.0</td>\n",
       "      <td>33</td>\n",
       "      <td>0.9</td>\n",
       "      <td>0.0</td>\n",
       "      <td>0.0</td>\n",
       "      <td>1</td>\n",
       "    </tr>\n",
       "    <tr>\n",
       "      <th>2</th>\n",
       "      <td>7</td>\n",
       "      <td>4</td>\n",
       "      <td>0</td>\n",
       "      <td>90.6</td>\n",
       "      <td>43.7</td>\n",
       "      <td>686.9</td>\n",
       "      <td>6.7</td>\n",
       "      <td>14.6</td>\n",
       "      <td>33</td>\n",
       "      <td>1.3</td>\n",
       "      <td>0.0</td>\n",
       "      <td>0.0</td>\n",
       "      <td>1</td>\n",
       "    </tr>\n",
       "    <tr>\n",
       "      <th>3</th>\n",
       "      <td>8</td>\n",
       "      <td>6</td>\n",
       "      <td>0</td>\n",
       "      <td>91.7</td>\n",
       "      <td>33.3</td>\n",
       "      <td>77.5</td>\n",
       "      <td>9.0</td>\n",
       "      <td>8.3</td>\n",
       "      <td>97</td>\n",
       "      <td>4.0</td>\n",
       "      <td>0.2</td>\n",
       "      <td>0.0</td>\n",
       "      <td>1</td>\n",
       "    </tr>\n",
       "    <tr>\n",
       "      <th>4</th>\n",
       "      <td>8</td>\n",
       "      <td>6</td>\n",
       "      <td>0</td>\n",
       "      <td>89.3</td>\n",
       "      <td>51.3</td>\n",
       "      <td>102.2</td>\n",
       "      <td>9.6</td>\n",
       "      <td>11.4</td>\n",
       "      <td>99</td>\n",
       "      <td>1.8</td>\n",
       "      <td>0.0</td>\n",
       "      <td>0.0</td>\n",
       "      <td>1</td>\n",
       "    </tr>\n",
       "  </tbody>\n",
       "</table>\n",
       "</div>"
      ],
      "text/plain": [
       "   X  Y  month  FFMC   DMC     DC  ISI  temp  RH  wind  rain  area  free_term\n",
       "0  7  5      0  86.2  26.2   94.3  5.1   8.2  51   6.7   0.0   0.0          1\n",
       "1  7  4      0  90.6  35.4  669.1  6.7  18.0  33   0.9   0.0   0.0          1\n",
       "2  7  4      0  90.6  43.7  686.9  6.7  14.6  33   1.3   0.0   0.0          1\n",
       "3  8  6      0  91.7  33.3   77.5  9.0   8.3  97   4.0   0.2   0.0          1\n",
       "4  8  6      0  89.3  51.3  102.2  9.6  11.4  99   1.8   0.0   0.0          1"
      ]
     },
     "execution_count": 2,
     "metadata": {},
     "output_type": "execute_result"
    }
   ],
   "source": [
    "data = pd.read_csv('forestfires.csv').drop('day',1)\n",
    "\n",
    "summer_set = ['jun','jul','aug']\n",
    "data['month'] = [int(i in summer_set) for i in data['month']]\n",
    "data['free_term'] = 1\n",
    "data.head()"
   ]
  },
  {
   "cell_type": "code",
   "execution_count": 3,
   "metadata": {
    "collapsed": false
   },
   "outputs": [],
   "source": [
    "x_headers = ['X', 'Y', 'month', 'FFMC', 'DMC', 'DC', 'ISI', \n",
    "             'temp', 'RH', 'wind', 'rain', 'free_term']\n",
    "y_headers = ['area']"
   ]
  },
  {
   "cell_type": "code",
   "execution_count": 4,
   "metadata": {
    "collapsed": false
   },
   "outputs": [],
   "source": [
    "def Fit(data):\n",
    "    X = data[x_headers]\n",
    "    Y = data[y_headers]\n",
    "    first = np.dot(X.T, X)\n",
    "    second = np.dot(linalg.inv(first), X.T)\n",
    "    return np.dot(second, Y)\n",
    "\n",
    "def Split(data_old, k):\n",
    "    # Перемешиваем\n",
    "    data = data_old.reindex(np.random.permutation(data_old.index))\n",
    "    assert k < 1, \"k must be less than 1.0\"\n",
    "    train = data[:int(floor(k*len(data)))]\n",
    "    test = data[int(floor(k*len(data))):]\n",
    "    return train, test\n",
    "\n",
    "def Predict(data, coefs):\n",
    "    return np.dot(data, coefs)\n",
    "\n",
    "def Error(predictions, answers):\n",
    "    res = 0\n",
    "    delta = predictions - answers.values\n",
    "    return (delta.T.dot(delta) / len(predictions))[0][0]\n",
    "\n",
    "def Train(data, k):\n",
    "    train, test = Split(data, k)\n",
    "    predictions = Predict(test[x_headers], Fit(train))\n",
    "    return Error(predictions, test[y_headers])"
   ]
  },
  {
   "cell_type": "code",
   "execution_count": 5,
   "metadata": {
    "collapsed": false
   },
   "outputs": [
    {
     "name": "stdout",
     "output_type": "stream",
     "text": [
      "1010.09143105\n"
     ]
    }
   ],
   "source": [
    "print(Train(data, 0.7))"
   ]
  },
  {
   "cell_type": "code",
   "execution_count": 6,
   "metadata": {
    "collapsed": true
   },
   "outputs": [],
   "source": [
    "def LogError(data_old, k, c):\n",
    "    data = data_old.copy()\n",
    "    data['area'] = log(data['area'].values + c)\n",
    "    return Train(data, k)"
   ]
  },
  {
   "cell_type": "code",
   "execution_count": 7,
   "metadata": {
    "collapsed": false
   },
   "outputs": [
    {
     "name": "stdout",
     "output_type": "stream",
     "text": [
      "   X  Y  month  FFMC   DMC     DC  ISI  temp  RH  wind  rain  area  free_term\n",
      "0  7  5      0  86.2  26.2   94.3  5.1   8.2  51   6.7   0.0   0.0          1\n",
      "1  7  4      0  90.6  35.4  669.1  6.7  18.0  33   0.9   0.0   0.0          1\n",
      "2  7  4      0  90.6  43.7  686.9  6.7  14.6  33   1.3   0.0   0.0          1\n",
      "3  8  6      0  91.7  33.3   77.5  9.0   8.3  97   4.0   0.2   0.0          1\n",
      "4  8  6      0  89.3  51.3  102.2  9.6  11.4  99   1.8   0.0   0.0          1\n"
     ]
    },
    {
     "data": {
      "text/plain": [
       "0.69564970287894767"
      ]
     },
     "execution_count": 7,
     "metadata": {},
     "output_type": "execute_result"
    }
   ],
   "source": [
    "print(data.head())\n",
    "LogError(data, 0.7, 10)"
   ]
  },
  {
   "cell_type": "code",
   "execution_count": 8,
   "metadata": {
    "collapsed": false
   },
   "outputs": [
    {
     "data": {
      "image/png": "[encoded data removed]",
      "text/plain": [
       "<matplotlib.figure.Figure at 0x108772f60>"
      ]
     },
     "metadata": {},
     "output_type": "display_data"
    }
   ],
   "source": [
    "consts = np.linspace(0.1, 100, 100)\n",
    "log_errs = np.zeros(len(consts))\n",
    "for i in range(len(log_errs)):\n",
    "    log_errs[i] = LogError(data, 0.9, consts[i])\n",
    "\n",
    "figure(figsize=(15,5))\n",
    "plot(consts, log_errs)\n",
    "show()"
   ]
  },
  {
   "cell_type": "code",
   "execution_count": null,
   "metadata": {
    "collapsed": true
   },
   "outputs": [],
   "source": []
  },
  {
   "cell_type": "code",
   "execution_count": null,
   "metadata": {
    "collapsed": true
   },
   "outputs": [],
   "source": []
  }
 ],
 "metadata": {
  "kernelspec": {
   "display_name": "Python 3",
   "language": "python",
   "name": "python3"
  },
  "language_info": {
   "codemirror_mode": {
    "name": "ipython",
    "version": 3
   },
   "file_extension": ".py",
   "mimetype": "text/x-python",
   "name": "python",
   "nbconvert_exporter": "python",
   "pygments_lexer": "ipython3",
   "version": "3.5.1"
  },
  "widgets": {
   "state": {},
   "version": "1.0.0"
  }
 },
 "nbformat": 4,
 "nbformat_minor": 0
}
