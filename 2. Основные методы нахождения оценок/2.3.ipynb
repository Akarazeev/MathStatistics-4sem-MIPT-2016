{
 "cells": [
  {
   "cell_type": "markdown",
   "metadata": {
    "collapsed": true
   },
   "source": [
    "# Задача 3"
   ]
  },
  {
   "cell_type": "code",
   "execution_count": 3,
   "metadata": {
    "collapsed": false
   },
   "outputs": [],
   "source": [
    "%matplotlib inline\n",
    "import numpy as np\n",
    "import math as mt\n",
    "import matplotlib\n",
    "import matplotlib.pyplot as plt\n",
    "from pylab import *\n",
    "from scipy.stats import *"
   ]
  },
  {
   "cell_type": "code",
   "execution_count": 4,
   "metadata": {
    "collapsed": false
   },
   "outputs": [],
   "source": [
    "def Pre(data):\n",
    "    res = data\n",
    "    for i in range(len(res)):\n",
    "        if res[i] == 0.0:\n",
    "            res[i] = 0.00001\n",
    "    return res\n",
    "\n",
    "def FindMaxArg(data):\n",
    "    # Перед тем, как начать искать максимум функции\n",
    "    # правдоподобия, необзодимо избавится от нулей\n",
    "    # в массиве data, заменив их на 0.00001.\n",
    "    # Именно это и делает функция Pre\n",
    "    data = Pre(data)\n",
    "    a_max = 0.01\n",
    "    n = len(data)\n",
    "    # Здесь записана функция правдоподобия распредления Вейбулла для n\n",
    "    # элементов, от которой взят логарифм.\n",
    "    f_max = (n*log(a_max)+((a_max-1.)*(sum(log(data))))-sum(data**a_max))\n",
    "    step = 0.001\n",
    "    it = -2.\n",
    "    while it <= 2.:\n",
    "        tmp = (n*log(10**it)+(((10**it)-1)*(sum(log(data))))-sum(data**(10**it)))\n",
    "        if tmp>=f_max:\n",
    "            a_max = it\n",
    "            f_max = tmp\n",
    "        it += step\n",
    "    return 10**a_max"
   ]
  },
  {
   "cell_type": "code",
   "execution_count": 5,
   "metadata": {
    "collapsed": false
   },
   "outputs": [],
   "source": [
    "from numpy import genfromtxt\n",
    "my_data = genfromtxt('Weibull.csv', delimiter=',')"
   ]
  },
  {
   "cell_type": "code",
   "execution_count": 6,
   "metadata": {
    "collapsed": false
   },
   "outputs": [
    {
     "name": "stdout",
     "output_type": "stream",
     "text": [
      "0.315500462337\n"
     ]
    },
    {
     "data": {
      "image/png": "[encoded data removed]",
      "text/plain": [
       "<matplotlib.figure.Figure at 0x1035cea90>"
      ]
     },
     "metadata": {},
     "output_type": "display_data"
    }
   ],
   "source": [
    "c = FindMaxArg(my_data[0:(365*4)])\n",
    "print c\n",
    "\n",
    "# Распределение Вейбулла с плотностью, указанной в задаче.\n",
    "c_ = c\n",
    "class weibull_gen(rv_continuous):\n",
    "    def _pdf(self, x):\n",
    "        return (c_*(x**(c_-1))*exp(-(x**c_)))\n",
    "weibull = weibull_gen(a=0, b=10, name='weibull')\n",
    "\n",
    "figure()\n",
    "x = np.linspace(0.001,0.6,1000)\n",
    "h = hist(my_data, range=(0,0.6), bins=50)\n",
    "plot(x, (max(h[0])*weibull.pdf(x))/max(weibull.pdf(x)), 'r', linewidth=4, alpha=0.7)\n",
    "show()"
   ]
  },
  {
   "cell_type": "code",
   "execution_count": 7,
   "metadata": {
    "collapsed": false
   },
   "outputs": [
    {
     "name": "stdout",
     "output_type": "stream",
     "text": [
      "0.313328572431\n"
     ]
    },
    {
     "data": {
      "image/png": "[encoded data removed]",
      "text/plain": [
       "<matplotlib.figure.Figure at 0x10bc31e90>"
      ]
     },
     "metadata": {},
     "output_type": "display_data"
    }
   ],
   "source": [
    "c = FindMaxArg(my_data)\n",
    "print c\n",
    "\n",
    "# Распределение Вейбулла с плотностью, указанной в задаче.\n",
    "c_ = c\n",
    "class weibull_gen(rv_continuous):\n",
    "    def _pdf(self, x):\n",
    "        return (c_*(x**(c_-1))*exp(-(x**c_)))\n",
    "weibull = weibull_gen(a=0, b=10, name='weibull')\n",
    "\n",
    "figure()\n",
    "x = np.linspace(0.001,0.6,1000)\n",
    "h = hist(my_data, range=(0,0.6), bins=50)\n",
    "plot(x, (max(h[0])*weibull.pdf(x))/max(weibull.pdf(x)), 'r', linewidth=4, alpha=0.7)\n",
    "show()"
   ]
  },
  {
   "cell_type": "markdown",
   "metadata": {},
   "source": [
    "Сравнив два графика, можно сделать вывод, что оценки параметра $\\gamma$ по первым четырем годам и по всей выборке практически совпадают."
   ]
  }
 ],
 "metadata": {
  "kernelspec": {
   "display_name": "Python 2",
   "language": "python",
   "name": "python2"
  },
  "language_info": {
   "codemirror_mode": {
    "name": "ipython",
    "version": 2
   },
   "file_extension": ".py",
   "mimetype": "text/x-python",
   "name": "python",
   "nbconvert_exporter": "python",
   "pygments_lexer": "ipython2",
   "version": "2.7.11"
  }
 },
 "nbformat": 4,
 "nbformat_minor": 0
}
